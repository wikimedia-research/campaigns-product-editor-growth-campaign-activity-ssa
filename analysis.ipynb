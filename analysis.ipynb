{
 "cells": [
  {
   "cell_type": "code",
   "execution_count": null,
   "id": "a02e1f45",
   "metadata": {},
   "outputs": [],
   "source": [
    "import matplotlib as mpl\n",
    "import matplotlib.pyplot as plt\n",
    "import matplotlib.ticker as ticker\n",
    "import matplotlib.dates as mdates\n",
    "import seaborn as sns\n",
    "import pandas as pd\n",
    "import numpy as np\n",
    "\n",
    "#%load_ext sql_magic\n",
    "%matplotlib inline\n",
    "\n",
    "#suppress scientific notation\n",
    "pd.options.display.float_format = '{:.0f}'.format"
   ]
  },
  {
   "cell_type": "code",
   "execution_count": null,
   "id": "9e814090",
   "metadata": {},
   "outputs": [],
   "source": [
    "all_2019_2020_participants = pd.read_csv(\"raw_data/campaign_participants_20192020.csv\", sep=',', encoding = 'utf-8') #all 2019-2020 participants\n",
    "\n",
    "cp_countries = pd.read_csv(\"output_data/output.csv\", sep=',', encoding = 'utf-8') #df of those that returned in 09/2021  \n",
    "#cp_countries['user_registration'] = pd.to_datetime(cp_countries['user_registration'], unit='s').dt.strftime('%Y-%m-%d') #handle dates\n",
    "\n",
    "#https://stackoverflow.com/questions/42442408/take-first-6-digits-of-pandas-column\n",
    "cp_countries['reg_YM'] = cp_countries['user_registration']\\\n",
    "   .dropna()\\\n",
    "   .astype(int)\\\n",
    "   .astype(str).str[:6]\n",
    "cp_countries['reg_Y'] = cp_countries['user_registration']\\\n",
    "   .dropna()\\\n",
    "   .astype(int)\\\n",
    "   .astype(str).str[:4]\n",
    "\n",
    "\n",
    "\n",
    "african_countries = pd.read_csv(\"output_data/african_countries_w_ssa.csv\", sep=',', encoding = 'utf-8')\n",
    "ssa_countries = african_countries.loc[african_countries['Region'] == 'Sub-Saharan Africa']#select the rows i'm interested in\n",
    "\n",
    "#merge cp_countries and ssa_countries\n",
    "df_all_d_r = cp_countries.merge(ssa_countries, how='left', on='country_code') #campaign participants that returned in 09/2021 + ssa info\n",
    "df_all_r = df_all_d_r.drop_duplicates() \n",
    "\n",
    "#select the rows i'm interested in\n",
    "df_r_ssa = df_all_r.loc[df_all_r['Region'] == 'Sub-Saharan Africa'] #campaign participants that returned in 09/2021 & edited from SSA"
   ]
  },
  {
   "cell_type": "code",
   "execution_count": null,
   "id": "213eda50",
   "metadata": {},
   "outputs": [],
   "source": [
    "len(cp_countries[cp_countries['user_registration'].isnull()])"
   ]
  },
  {
   "cell_type": "raw",
   "id": "3278f2ed",
   "metadata": {
    "jupyter": {
     "outputs_hidden": true
    },
    "tags": []
   },
   "source": [
    "reformat_dates(cp_countries['user_registration'])\n",
    "cp_countries['user_registration'] = cp_countries['user_registration'].fillna(\"\")\n",
    "cp_countries['reg_year'] = cp_countries['user_registration'].astype(str).str[:4].astype(int)\n",
    "\n",
    "def reformat_dates(df):\n",
    "    df['user_registration'] = pd.to_datetime(df['user_registration'], unit='s')\n",
    "    return df"
   ]
  },
  {
   "cell_type": "raw",
   "id": "6a0dafca",
   "metadata": {},
   "source": [
    "#handle date columns\n",
    "ce_dashboard_s['date']      = pd.to_datetime(ce_dashboard_s['date']).dt.tz_localize(None).dt.strftime('%Y-%m-%d')\n",
    "ce_wpwp_s['date']           = pd.to_datetime(ce_wpwp_s['date']).dt.tz_localize(None).dt.strftime('%Y-%m-%d')\n",
    "ce_1lib1ref_s['date']       = pd.to_datetime(ce_1lib1ref_s['date']).dt.tz_localize(None).dt.strftime('%Y-%m-%d')\n",
    "ce_aflia_1lib1ref_s['date'] = pd.to_datetime(ce_aflia_1lib1ref_s['date']).dt.strftime('%Y-%m-%d')\n",
    "ce_wikiquote_s['date']      = pd.to_datetime(ce_wikiquote_s['date']).dt.strftime('%Y-%m-%d')\n",
    "ce_afroCine_s['date']       = pd.to_datetime(ce_afroCine_s['date']).dt.strftime('%Y-%m-%d')\n",
    "ce_lagos_s['date']          = pd.to_datetime(ce_lagos_s['date']).dt.strftime('%Y-%m-%d')  \n",
    "\n"
   ]
  },
  {
   "cell_type": "code",
   "execution_count": null,
   "id": "8648c894",
   "metadata": {},
   "outputs": [],
   "source": [
    "#get unique participant counts for the lists\n",
    "up_all = all_2019_2020_participants['username'].unique() #2019/2020 participants\n",
    "up_all_r = df_all_r['user_name'].unique() #2019/2020 participants that returned in sept 2021\n",
    "up_r_ssa = df_r_ssa['user_name'].unique() #those that returned in sept 2021 and edited from ssa\n",
    "\n",
    "print(len(up_all))\n",
    "print(len(up_all_r))\n",
    "print(len(up_r_ssa))"
   ]
  },
  {
   "cell_type": "markdown",
   "id": "6e022e18",
   "metadata": {},
   "source": [
    "### Exploration"
   ]
  },
  {
   "cell_type": "raw",
   "id": "519542c6",
   "metadata": {},
   "source": [
    "df_all_r.describe()"
   ]
  },
  {
   "cell_type": "raw",
   "id": "5c8b6485",
   "metadata": {},
   "source": [
    "df_all_r.hist(figsize=(14,7));"
   ]
  },
  {
   "cell_type": "raw",
   "id": "db6cd08e",
   "metadata": {},
   "source": [
    "plt.figure(figsize = (20,8))\n",
    "sns.heatmap(df_all_r.corr(), annot=True, cmap='coolwarm');"
   ]
  },
  {
   "cell_type": "code",
   "execution_count": null,
   "id": "3467fd9d",
   "metadata": {},
   "outputs": [],
   "source": [
    "#check for outliers in page_len\n",
    "sns.stripplot(data = df_all_r, y = 'user_editcount', jitter = True);\n",
    "#sns.plt.ylim(0, 500)\n",
    "#sns.plt.show()"
   ]
  },
  {
   "cell_type": "code",
   "execution_count": null,
   "id": "eb603a23",
   "metadata": {},
   "outputs": [],
   "source": [
    "#check for outliers in page_len\n",
    "sns.stripplot(data = df_r_ssa, y = 'user_editcount', jitter = True);\n",
    "#sns.plt.ylim(0, 500)\n",
    "#sns.plt.show()"
   ]
  },
  {
   "cell_type": "markdown",
   "id": "1f3f7d5c",
   "metadata": {},
   "source": [
    "#### Question: How many 2019-2020 campaign participants edited in September 2021?"
   ]
  },
  {
   "cell_type": "code",
   "execution_count": null,
   "id": "8a9910fb",
   "metadata": {},
   "outputs": [],
   "source": [
    "print(len(up_all_r))\n",
    "(len(up_all_r)/len(up_all))*100"
   ]
  },
  {
   "cell_type": "markdown",
   "id": "dfd10dcb",
   "metadata": {},
   "source": [
    "#### Question: How many 2019-2020 campaign participants edited in September (09/01-09/30) 2021 from SSA?"
   ]
  },
  {
   "cell_type": "code",
   "execution_count": null,
   "id": "743e0df1",
   "metadata": {},
   "outputs": [],
   "source": [
    "print(len(up_r_ssa))\n",
    "(len(up_r_ssa)/len(up_all))*100"
   ]
  },
  {
   "cell_type": "markdown",
   "id": "f0b215c2",
   "metadata": {},
   "source": [
    "#### Question: what percentage of editors in SSA Africa participated in campaign activities in the 2019-2020 period?"
   ]
  },
  {
   "cell_type": "raw",
   "id": "97157645",
   "metadata": {},
   "source": [
    "550,000 SUM(distinct_editors) in SSA\n",
    "1,162,393 SUM(distinct_editors) in Africa"
   ]
  },
  {
   "cell_type": "code",
   "execution_count": null,
   "id": "8679d610",
   "metadata": {},
   "outputs": [],
   "source": [
    "(len(up_r_ssa)/550000)*100"
   ]
  },
  {
   "cell_type": "markdown",
   "id": "e4e7c094",
   "metadata": {},
   "source": [
    "#### countries"
   ]
  },
  {
   "cell_type": "code",
   "execution_count": null,
   "id": "911b849f",
   "metadata": {},
   "outputs": [],
   "source": [
    "df_r_ssa.groupby('country_name')['user_name'].agg(['count', 'nunique']).sort_values(by = 'count', ascending=False)#.describe()"
   ]
  },
  {
   "cell_type": "code",
   "execution_count": null,
   "id": "332f2ddb",
   "metadata": {},
   "outputs": [],
   "source": [
    "c = df_r_ssa.groupby('country_name')['user_name'].nunique().sort_values(ascending=False).reset_index().rename(columns={'user_name':'unique_user_names'})"
   ]
  },
  {
   "cell_type": "code",
   "execution_count": null,
   "id": "b1c2ec06",
   "metadata": {},
   "outputs": [],
   "source": [
    "c.head(5)"
   ]
  },
  {
   "cell_type": "code",
   "execution_count": null,
   "id": "30b9dc55",
   "metadata": {},
   "outputs": [],
   "source": [
    "c.plot.bar(x='country_name', y='unique_user_names')\n",
    "#d['Country'].value_counts().plot.bar()"
   ]
  },
  {
   "cell_type": "markdown",
   "id": "1ebb3925",
   "metadata": {},
   "source": [
    "##### How many participants edited from more than one country?"
   ]
  },
  {
   "cell_type": "code",
   "execution_count": null,
   "id": "a4e84a80",
   "metadata": {},
   "outputs": [],
   "source": [
    "#ssa list\n",
    "mcssa = pd.pivot_table(df_r_ssa,index=[\"user_name\"], values=[\"country_name\"], aggfunc=pd.Series.nunique).reset_index()\n",
    "\n",
    "print(\"# of participants from more than one country:\", len(mcssa[mcssa['country_name'] > 1]))\n",
    "\n",
    "print(\"percent:\",(len(mcssa[mcssa['country_name'] > 1])/ df_r_ssa['user_name'].nunique())*100)"
   ]
  },
  {
   "cell_type": "code",
   "execution_count": null,
   "id": "5f1bcda9",
   "metadata": {},
   "outputs": [],
   "source": [
    "#r list\n",
    "mcr = pd.pivot_table(df_all_r,index=[\"user_name\"], values=[\"country_name\"], aggfunc=pd.Series.nunique).reset_index()\n",
    "\n",
    "print(\"# of participants from more than one country:\",len(mcr[mcr['country_name'] > 1]))\n",
    "print(\"percent:\",(len(mcr[mcr['country_name'] > 1])/ df_all_r['user_name'].nunique())*100)"
   ]
  },
  {
   "cell_type": "markdown",
   "id": "ffcee482",
   "metadata": {},
   "source": [
    "#### wikis"
   ]
  },
  {
   "cell_type": "markdown",
   "id": "1f96f41b",
   "metadata": {},
   "source": [
    "##### How many participants edited in more than one wiki?"
   ]
  },
  {
   "cell_type": "code",
   "execution_count": null,
   "id": "707cda05",
   "metadata": {},
   "outputs": [],
   "source": [
    "#r list\n",
    "mwr = pd.pivot_table(df_all_r,index=[\"user_name\"], values=[\"wiki_db\"], aggfunc=pd.Series.nunique).reset_index().rename(columns={'wiki_db':'wiki_db_counts'})\n",
    "\n",
    "print(\"# of participants contributing to more than one wiki:\",len(mwr[mwr['wiki_db_counts'] > 1]))\n",
    "print(\"percent:\",(len(mwr[mwr['wiki_db_counts'] > 1])/ df_all_r['user_name'].nunique())*100)"
   ]
  },
  {
   "cell_type": "code",
   "execution_count": null,
   "id": "870c6c84",
   "metadata": {},
   "outputs": [],
   "source": [
    "wiki_bins = [1, 2, 3, 4, 5, 6, 7, 8, 9, 10]"
   ]
  },
  {
   "cell_type": "code",
   "execution_count": null,
   "id": "90f44d7c",
   "metadata": {},
   "outputs": [],
   "source": [
    "mwr_wikis_binned = pd.cut(mwr['wiki_db_counts'], bins=wiki_bins).value_counts().reset_index()\n",
    "mwr_wikis_binned"
   ]
  },
  {
   "cell_type": "code",
   "execution_count": null,
   "id": "eb337970",
   "metadata": {},
   "outputs": [],
   "source": [
    "#ssa list\n",
    "mws = pd.pivot_table(df_r_ssa,index=[\"user_name\"], values=[\"wiki_db\"], aggfunc=pd.Series.nunique).reset_index().rename(columns={'wiki_db':'wiki_db_counts'})\n",
    "\n",
    "print(\"# of participants contributing to more than one wiki:\",len(mws[mws['wiki_db_counts'] > 1]))\n",
    "print(\"percent:\",(len(mws[mws['wiki_db_counts'] > 1])/ df_r_ssa['user_name'].nunique())*100)"
   ]
  },
  {
   "cell_type": "code",
   "execution_count": null,
   "id": "53fcad98",
   "metadata": {},
   "outputs": [],
   "source": [
    "mws_wikis_binned = pd.cut(mws['wiki_db_counts'], bins=wiki_bins).value_counts().reset_index()\n",
    "mws_wikis_binned"
   ]
  },
  {
   "cell_type": "markdown",
   "id": "cc477c08",
   "metadata": {},
   "source": [
    "##### which wikis are most represented?"
   ]
  },
  {
   "cell_type": "code",
   "execution_count": null,
   "id": "cdb2415e",
   "metadata": {},
   "outputs": [],
   "source": [
    "df_all_r.groupby('wiki_db')['user_name'].agg(['count', 'nunique']).sort_values(by = 'count', ascending=False).head(15)#.describe()"
   ]
  },
  {
   "cell_type": "code",
   "execution_count": null,
   "id": "395d0111",
   "metadata": {},
   "outputs": [],
   "source": [
    "df_r_ssa.groupby('wiki_db')['user_name'].agg(['count', 'nunique']).sort_values(by = 'count', ascending=False).head(15)#.describe()"
   ]
  },
  {
   "cell_type": "code",
   "execution_count": null,
   "id": "f80f674e",
   "metadata": {},
   "outputs": [],
   "source": [
    "w = df_r_ssa.groupby('wiki_db')['user_name'].nunique().sort_values(ascending=False).reset_index().rename(columns={'user_name':'unique_user_names'})"
   ]
  },
  {
   "cell_type": "code",
   "execution_count": null,
   "id": "c09f0080",
   "metadata": {},
   "outputs": [],
   "source": [
    "w.head(10)"
   ]
  },
  {
   "cell_type": "code",
   "execution_count": null,
   "id": "2f632393",
   "metadata": {},
   "outputs": [],
   "source": [
    "ws = w.head(25)"
   ]
  },
  {
   "cell_type": "code",
   "execution_count": null,
   "id": "ecfc05eb",
   "metadata": {},
   "outputs": [],
   "source": [
    "ws.plot.bar(x='wiki_db', y='unique_user_names')\n",
    "#d['Country'].value_counts().plot.bar()"
   ]
  },
  {
   "cell_type": "markdown",
   "id": "59088705",
   "metadata": {},
   "source": [
    "#### edit count"
   ]
  },
  {
   "cell_type": "code",
   "execution_count": null,
   "id": "3c07aca1",
   "metadata": {},
   "outputs": [],
   "source": [
    "#check for outliers in page_len\n",
    "sns.stripplot(data = df_all_r, y = 'user_editcount', jitter = True);\n",
    "#sns.plt.ylim(0, 500)\n",
    "#sns.plt.show()"
   ]
  },
  {
   "cell_type": "code",
   "execution_count": null,
   "id": "be061453",
   "metadata": {},
   "outputs": [],
   "source": [
    "#check for outliers in page_len\n",
    "sns.stripplot(data = df_r_ssa, y = 'user_editcount', jitter = True);\n",
    "#sns.plt.ylim(0, 500)\n",
    "#sns.plt.show()"
   ]
  },
  {
   "cell_type": "raw",
   "id": "c530f7be",
   "metadata": {},
   "source": [
    "df_r_ssa['user_editcount'].hist()"
   ]
  },
  {
   "cell_type": "code",
   "execution_count": null,
   "id": "61451dca",
   "metadata": {},
   "outputs": [],
   "source": [
    "#select and dedupe across all columns\n",
    "prep = df_r_ssa[['user_editcount', 'user_name']].drop_duplicates()\n",
    "\n",
    "#keep each user's highest edit count value only\n",
    "preps = prep.groupby('user_name', group_keys=False).apply(lambda x: x.loc[x.user_editcount.idxmax()])"
   ]
  },
  {
   "cell_type": "code",
   "execution_count": null,
   "id": "3f0ba113",
   "metadata": {},
   "outputs": [],
   "source": [
    "bins = [0, 50, 100, 300, 600, 1000, 2000, 3000]\n",
    "\n",
    "participants_output_binned = pd.cut(preps['user_editcount'], bins=bins).value_counts().reset_index()"
   ]
  },
  {
   "cell_type": "code",
   "execution_count": null,
   "id": "e6801135",
   "metadata": {},
   "outputs": [],
   "source": [
    "pd.cut(preps['user_editcount'], bins=bins).value_counts()"
   ]
  },
  {
   "cell_type": "raw",
   "id": "13c564a2",
   "metadata": {
    "tags": []
   },
   "source": [
    "participants_output_binned.plot.bar();"
   ]
  },
  {
   "cell_type": "code",
   "execution_count": null,
   "id": "4ec876dc",
   "metadata": {},
   "outputs": [],
   "source": [
    "uec_plot = participants_output_binned.plot(kind='bar')\n",
    "\n",
    "uec_plot.set_ylabel('No. of Editors')\n",
    "uec_plot.set_title('Editors by edit count groupings')\n",
    "#uec_plot.set_xticks(width)\n",
    "uec_plot.set_xticklabels( ('0-59', '100-300','50-100', '1k-2k', '300-600', '600-1k', '2k-3k') );"
   ]
  },
  {
   "cell_type": "code",
   "execution_count": null,
   "id": "c9f06e1a",
   "metadata": {},
   "outputs": [],
   "source": [
    "#########FUTURE - editcount by reg date"
   ]
  },
  {
   "cell_type": "raw",
   "id": "38bd0113",
   "metadata": {},
   "source": [
    "b = df_r_ssa[['user_editcount', 'user_name', 'reg_YM']].drop_duplicates().groupby('user_name', group_keys=False).apply(lambda x: x.loc[x.user_editcount.idxmax()])\n",
    "df_r_ssa.plot.bar(x='Country', y='unique_user_names')"
   ]
  },
  {
   "cell_type": "markdown",
   "id": "23c29c67",
   "metadata": {},
   "source": [
    "#### user_reg"
   ]
  },
  {
   "cell_type": "code",
   "execution_count": null,
   "id": "0f708c35",
   "metadata": {},
   "outputs": [],
   "source": [
    "#check for outliers in page_len\n",
    "sns.stripplot(data = df_r_ssa, y = 'reg_YM', jitter = True);\n",
    "#sns.plt.ylim(0, 500)\n",
    "#sns.plt.show()"
   ]
  },
  {
   "cell_type": "code",
   "execution_count": null,
   "id": "a3a4085f",
   "metadata": {},
   "outputs": [],
   "source": [
    "#check for outliers in page_len\n",
    "sns.stripplot(data = df_all_r, y = 'reg_YM', jitter = True);"
   ]
  },
  {
   "cell_type": "markdown",
   "id": "fc89bd67",
   "metadata": {},
   "source": [
    "##### newcomers during the campaign times"
   ]
  },
  {
   "cell_type": "code",
   "execution_count": null,
   "id": "3ca9d8e4",
   "metadata": {},
   "outputs": [],
   "source": [
    "newcomers=df_r_ssa.loc[(df_r_ssa['reg_Y'] >= '2019') & (df_r_ssa['reg_Y'] <= '2020')]\n",
    "newcomers['user_name'].nunique()"
   ]
  },
  {
   "cell_type": "code",
   "execution_count": null,
   "id": "523ed4d5",
   "metadata": {},
   "outputs": [],
   "source": [
    "(newcomers['user_name'].nunique()/len(up_r_ssa))*100"
   ]
  },
  {
   "cell_type": "markdown",
   "id": "b900c00d",
   "metadata": {},
   "source": [
    "#### join with campaign info"
   ]
  },
  {
   "cell_type": "code",
   "execution_count": null,
   "id": "7848c1ea",
   "metadata": {},
   "outputs": [],
   "source": [
    "all_2019_2020_participants.sample(3)"
   ]
  },
  {
   "cell_type": "code",
   "execution_count": null,
   "id": "cfc4d3f4",
   "metadata": {
    "tags": []
   },
   "outputs": [],
   "source": [
    "all_rs_un = (df_all_r['user_name'].unique()).tolist()\n",
    "all_ssas_un = (df_r_ssa['user_name'].unique()).tolist()"
   ]
  },
  {
   "cell_type": "code",
   "execution_count": null,
   "id": "ab938fc7",
   "metadata": {},
   "outputs": [],
   "source": [
    "all_rs = all_2019_2020_participants[all_2019_2020_participants['username'].isin(all_rs_un)]\n",
    "all_ssas = all_2019_2020_participants[all_2019_2020_participants['username'].isin(all_ssas_un)]"
   ]
  },
  {
   "cell_type": "code",
   "execution_count": null,
   "id": "870808ea",
   "metadata": {},
   "outputs": [],
   "source": [
    "cc_all_r = pd.pivot_table(all_rs,index=[\"username\"], values=[\"campaign\"], aggfunc=pd.Series.nunique).reset_index().rename(columns={'campaign':'campaign_counts'})\n",
    "cc_ssa_r = pd.pivot_table(all_ssas,index=[\"username\"], values=[\"campaign\"], aggfunc=pd.Series.nunique).reset_index().rename(columns={'campaign':'campaign_counts'})"
   ]
  },
  {
   "cell_type": "code",
   "execution_count": null,
   "id": "ce8f3b12",
   "metadata": {},
   "outputs": [],
   "source": [
    "print(\"# of all r participants contributing to more than one campaign:\",len(cc_all_r[cc_all_r['campaign_counts'] > 1]))\n",
    "print(\"percent:\",(len(cc_all_r[cc_all_r['campaign_counts'] > 1])/ df_all_r['user_name'].nunique())*100)\n",
    "\n",
    "campaign_bins = [1, 2, 3, 4, 5, 6, 7, 8, 9, 10, 15, 20, 30, 50]\n",
    "\n",
    "n2 = pd.cut(cc_all_r['campaign_counts'], bins=campaign_bins).value_counts().reset_index()\n",
    "n2"
   ]
  },
  {
   "cell_type": "code",
   "execution_count": null,
   "id": "71d574fc",
   "metadata": {},
   "outputs": [],
   "source": [
    "print(\"# of ssa participants contributing to more than one campaign:\",len(cc_ssa_r[cc_ssa_r['campaign_counts'] > 1]))\n",
    "print(\"percent:\",(len(cc_ssa_r[cc_ssa_r['campaign_counts'] > 1])/ df_r_ssa['user_name'].nunique())*100)\n",
    "\n",
    "n3 = pd.cut(cc_ssa_r['campaign_counts'], bins=campaign_bins).value_counts().reset_index()\n",
    "n3"
   ]
  },
  {
   "cell_type": "code",
   "execution_count": null,
   "id": "3c409102",
   "metadata": {},
   "outputs": [],
   "source": []
  }
 ],
 "metadata": {
  "kernelspec": {
   "display_name": "Python 3",
   "language": "python",
   "name": "python3"
  },
  "language_info": {
   "codemirror_mode": {
    "name": "ipython",
    "version": 3
   },
   "file_extension": ".py",
   "mimetype": "text/x-python",
   "name": "python",
   "nbconvert_exporter": "python",
   "pygments_lexer": "ipython3",
   "version": "3.7.10"
  }
 },
 "nbformat": 4,
 "nbformat_minor": 5
}

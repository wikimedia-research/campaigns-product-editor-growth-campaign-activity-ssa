{
 "cells": [
  {
   "cell_type": "code",
   "execution_count": null,
   "id": "03d8e4ef",
   "metadata": {},
   "outputs": [],
   "source": [
    "import glob\n",
    "import os\n",
    "import pandas as pd\n",
    "import numpy as np\n",
    "import json\n",
    "\n",
    "import wmfdata as wmf\n",
    "from wmfdata import charting, mariadb, hive\n",
    "from wmfdata.utils import pct_str, pd_display_all"
   ]
  },
  {
   "cell_type": "markdown",
   "id": "fe9ddb4c",
   "metadata": {},
   "source": [
    "## collect campaign data"
   ]
  },
  {
   "cell_type": "code",
   "execution_count": null,
   "id": "f03c70b2",
   "metadata": {},
   "outputs": [],
   "source": [
    "#read sheets\n",
    "ce_wpwp           = pd.read_csv('raw_data/campaigns_editors_july_wpwp.csv', parse_dates=True)\n",
    "ce_dashboard      = pd.read_csv('raw_data/campaigns_editors_dashboard.csv', parse_dates=True)\n",
    "ce_wikiquote      = pd.read_csv('raw_data/campaigns_editors - Projet Wikiquote Tour 2020.csv', parse_dates=True)\n",
    "ce_aflia_1lib1ref = pd.read_csv('raw_data/campaigns_editors - AfLIA 1Lib1Ref African Librarians_PEashboard.csv', parse_dates=True)\n",
    "ce_afroCine       = pd.read_csv('raw_data/campaigns_editors - Project_AfroCine_Months_of_African_Cinema.csv', parse_dates=True)\n",
    "ce_lagos          = pd.read_csv('raw_data/campaigns_editors - Lagos Municipalities Photowalk.csv', parse_dates=True)\n",
    "ce_1lib1ref       = pd.read_csv('raw_data/campaigns_editors - 1lib1ref.csv', parse_dates=True)\n",
    "\n",
    "#read wiki loves data\n",
    "f = open('raw_data/db.json',)\n",
    "  \n",
    "# returns JSON object as \n",
    "# a dictionary\n",
    "data = json.load(f)"
   ]
  },
  {
   "cell_type": "code",
   "execution_count": null,
   "id": "bd09e254",
   "metadata": {},
   "outputs": [],
   "source": [
    "#clean sheets\n",
    "\n",
    "#make all column names lower case\n",
    "ce_dashboard.columns= ce_dashboard.columns.str.lower()\n",
    "ce_wikiquote.columns= ce_wikiquote.columns.str.lower()\n",
    "ce_afroCine.columns= ce_afroCine.columns.str.lower()\n",
    "ce_lagos.columns= ce_lagos.columns.str.lower()\n",
    "ce_1lib1ref.columns= ce_1lib1ref.columns.str.lower()\n",
    "ce_aflia_1lib1ref.columns= ce_aflia_1lib1ref.columns.str.lower()\n",
    "ce_wpwp.columns= ce_wpwp.columns.str.lower()\n",
    "\n",
    "#add a column to each sheet with the name of the campaign\n",
    "ce_wpwp['campaign']           = 'wpwp'\n",
    "ce_wikiquote['campaign']      = 'Projet_Wikiquote_Tour'\n",
    "ce_afroCine['campaign']       = 'Project_AfroCine_Months_of_African_Cinema'\n",
    "ce_lagos['campaign']          = 'Lagos_Municipalities_Photowalk'\n",
    "ce_aflia_1lib1ref['campaign'] = 'AfLIA_1Lib1Ref_African_Librarians'\n",
    "ce_1lib1ref['campaign']       = '1lib1ref'\n",
    "\n",
    "#rename course to campaign\n",
    "ce_dashboard = ce_dashboard.rename(columns={'course':'campaign','timestamp':'date'})\n",
    "ce_wpwp      = ce_wpwp.rename(columns={'timestamp':'date'})\n",
    "ce_lagos     = ce_lagos.rename(columns={'end':'date'})\n",
    "ce_1lib1ref  = ce_1lib1ref.rename(columns={'timestamp':'date'})\n",
    "\n",
    "#add date column \n",
    "ce_aflia_1lib1ref['date'] = '2020' #empty date initially\n",
    "ce_wikiquote['date'] = '2020'\n",
    "\n",
    "ce_dashboard['source']     = 'dashboard'\n",
    "ce_wpwp['source']           = 'wpwp'\n",
    "ce_wikiquote['source']      = 'Projet_Wikiquote_Tour'\n",
    "ce_afroCine['source']       = 'Project_AfroCine_Months_of_African_Cinema'\n",
    "ce_lagos['source']          = 'Lagos_Municipalities_Photowalk'\n",
    "ce_aflia_1lib1ref['source'] = 'AfLIA_1Lib1Ref_African_Librarians'\n",
    "ce_1lib1ref['source']       = '1lib1ref'\n",
    "\n",
    "#select the columns I am interested in\n",
    "ce_dashboard_s = ce_dashboard[['date', 'campaign', 'username', 'source']] \n",
    "ce_wpwp_s = ce_wpwp[['date', 'campaign', 'username', 'source']] \n",
    "ce_wikiquote_s = ce_wikiquote[['date', 'campaign', 'username', 'source']] \n",
    "ce_afroCine_s = ce_afroCine[['date', 'campaign', 'username','source']] \n",
    "ce_lagos_s = ce_lagos[['date', 'campaign', 'username','source']] \n",
    "ce_aflia_1lib1ref_s = ce_aflia_1lib1ref[['date', 'campaign', 'username','source']] \n",
    "ce_1lib1ref_s = ce_1lib1ref[['date', 'campaign', 'username','source']] \n",
    "\n",
    "#handle date columns\n",
    "ce_dashboard_s['date']      = pd.to_datetime(ce_dashboard_s['date']).dt.tz_localize(None).dt.strftime('%Y-%m-%d')\n",
    "ce_wpwp_s['date']           = pd.to_datetime(ce_wpwp_s['date']).dt.tz_localize(None).dt.strftime('%Y-%m-%d')\n",
    "ce_1lib1ref_s['date']       = pd.to_datetime(ce_1lib1ref_s['date']).dt.tz_localize(None).dt.strftime('%Y-%m-%d')\n",
    "ce_aflia_1lib1ref_s['date'] = pd.to_datetime(ce_aflia_1lib1ref_s['date']).dt.strftime('%Y-%m-%d')\n",
    "ce_wikiquote_s['date']      = pd.to_datetime(ce_wikiquote_s['date']).dt.strftime('%Y-%m-%d')\n",
    "ce_afroCine_s['date']       = pd.to_datetime(ce_afroCine_s['date']).dt.strftime('%Y-%m-%d')\n",
    "ce_lagos_s['date']          = pd.to_datetime(ce_lagos_s['date']).dt.strftime('%Y-%m-%d')  \n",
    "\n",
    "#combine\n",
    "ce_d = pd.concat([ce_aflia_1lib1ref_s, \n",
    "                  ce_wikiquote_s,\n",
    "                  ce_afroCine_s,\n",
    "                  ce_lagos_s,\n",
    "                  ce_1lib1ref_s,\n",
    "                  ce_wpwp_s, \n",
    "                  ce_dashboard_s]) "
   ]
  },
  {
   "cell_type": "code",
   "execution_count": null,
   "id": "acb77b8e",
   "metadata": {},
   "outputs": [],
   "source": [
    "def flatten_json(nested_json, exclude=['']):\n",
    "    \"\"\"Flatten json object with nested keys into a single level.\n",
    "        Args:\n",
    "            nested_json: A nested json object.\n",
    "            exclude: Keys to exclude from output.\n",
    "        Returns:\n",
    "            The flattened json object if successful, None otherwise.\n",
    "    \"\"\"\n",
    "    out = {}\n",
    "\n",
    "    def flatten(x, name='', exclude=exclude):\n",
    "        if type(x) is dict:\n",
    "            for a in x:\n",
    "                if a not in exclude: flatten(x[a], name + a + '_')\n",
    "        elif type(x) is list:\n",
    "            i = 0\n",
    "            for a in x:\n",
    "                flatten(a, name + str(i) + '_')\n",
    "                i += 1\n",
    "        else:\n",
    "            out[name[:-1]] = x\n",
    "\n",
    "    flatten(nested_json)\n",
    "    return out"
   ]
  },
  {
   "cell_type": "code",
   "execution_count": null,
   "id": "0a3fd02e",
   "metadata": {},
   "outputs": [],
   "source": [
    "# clean json\n",
    "\n",
    "# converting json dataset from dictionary to dataframe\n",
    "train = pd.DataFrame.from_dict(data, orient='index')\n",
    "train.reset_index(level=0, inplace=True)\n",
    "\n",
    "        # add index column to list for below selection\n",
    "        # ssa_ls = ssa.insert(0, \"index\")\n",
    "        #ssa_ls = np.append(ssa, ['index'])\n",
    "\n",
    "        # Select the ones you want\n",
    "        #df_new = train.reindex(columns = ssa_ls)#, fill_value=0)\n",
    "\n",
    "        # put index at first place\n",
    "        #col = df_new.pop(\"index\")\n",
    "        #df_new.insert(0, col.name, col)\n",
    "\n",
    "# reshape \n",
    "jdf = (train.iloc[1:].set_index('index').stack().reset_index(0).join(train.iloc[0,1:].rename('1')).sort_values('index'))\n",
    "\n",
    "ce_wikiloves= pd.DataFrame([flatten_json(x) for x in jdf[0]])\n",
    "\n",
    "#keep cols\n",
    "keep_cols = [col for col in ce_wikiloves.columns if 'users' in col]\n",
    "#drop _usage, _reg\n",
    "drop_usage_cols = [col for col in ce_wikiloves.columns if '_usage' in col]\n",
    "drop_reg_cols = [col for col in ce_wikiloves.columns if '_reg' in col]\n",
    "drop_data_cols = [col for col in ce_wikiloves.columns if 'data_' in col]\n",
    "drop_cols = drop_usage_cols +drop_reg_cols+drop_data_cols\n",
    "\n",
    "# Select the columns desired\n",
    "ce_wikiloves_s = ce_wikiloves.drop(columns=drop_cols)\n",
    "\n",
    "#reshape wide to long\n",
    "#as each row is essentially it's own df\n",
    "keys = [c for c in ce_wikiloves_s if c.startswith('users_')]\n",
    "ce_wikiloves_sdf = pd.melt(ce_wikiloves_s, id_vars=['category','end','count'], value_vars=keys, value_name='key')\n",
    "#remove \"users_\" and \"_count\" from column names\n",
    "ce_wikiloves_sdf['variable'] = ce_wikiloves_sdf['variable'].map(lambda x: x.lstrip('users_').rstrip('_count'))\n",
    "\n",
    "\n",
    "\n",
    "\n",
    "ce_wikiloves_sdf = ce_wikiloves_sdf.rename(columns={'category':'campaign',\n",
    "                                                    'end':'date',\n",
    "                                                    'variable':'username',\n",
    "                                                    'key': 'users_uploads_count',\n",
    "                                                    'count': 'total_uploads_count'\n",
    "                                                   })\n",
    "ce_wikiloves_sdf['source'] = 'wikiloves_json'\n",
    "\n",
    "#drop rows of Pandas DataFrame whose value in a certain column is NaN\n",
    "ce_wikiloves_sdf = ce_wikiloves_sdf[ce_wikiloves_sdf['users_uploads_count'].notna()]\n",
    "\n",
    "#handle date column\n",
    "#ce_wikiloves_sdf['date'] = pd.to_datetime(ce_wikiloves_sdf['date']).dt.strftime('%Y-%m-%d') \n",
    "ce_wikiloves_sdf['date'] = pd.to_datetime(ce_wikiloves_sdf.date, format='%Y%m%d%H%M%S', errors='coerce').dt.strftime('%Y-%m-%d') "
   ]
  },
  {
   "cell_type": "markdown",
   "id": "f4bb8c49",
   "metadata": {},
   "source": [
    "## combine campaign dfs"
   ]
  },
  {
   "cell_type": "code",
   "execution_count": null,
   "id": "fc68f01e",
   "metadata": {},
   "outputs": [],
   "source": [
    "#concatenate all usernames/dates/campaigns\n",
    "campaigns_combined = pd.concat([ce_d, ce_wikiloves_sdf]) "
   ]
  },
  {
   "cell_type": "code",
   "execution_count": null,
   "id": "d5e7f19f",
   "metadata": {},
   "outputs": [],
   "source": [
    "# Filter data between two dates\n",
    "campaigns_combined_select = campaigns_combined.loc[(campaigns_combined['date'] >= '2018-12-31')\n",
    "                     & (campaigns_combined['date'] < '2021-01-01')]"
   ]
  },
  {
   "cell_type": "raw",
   "id": "212099b7",
   "metadata": {},
   "source": [
    "#check the data\n",
    "#https://commons.wikimedia.org/wiki/Category:Images_from_Wiki_Loves_Monuments_2020_in_Sudan\n",
    "ce_wikiloves_sdf[ce_wikiloves_sdf['campaign']=='Images_from_Wiki_Loves_Monuments_2020_in_Sudan']"
   ]
  },
  {
   "cell_type": "code",
   "execution_count": null,
   "id": "f4d223de",
   "metadata": {},
   "outputs": [],
   "source": [
    "editors_unique = campaigns_combined['username'].unique()\n",
    "editors_unique_s = campaigns_combined_select['username'].unique()\n",
    "print(len(editors_unique))\n",
    "print(len(editors_unique_s))"
   ]
  },
  {
   "cell_type": "markdown",
   "id": "e270f9e6",
   "metadata": {},
   "source": [
    "### final campaign dataframe"
   ]
  },
  {
   "cell_type": "code",
   "execution_count": null,
   "id": "688be524",
   "metadata": {},
   "outputs": [],
   "source": [
    "table_data = campaigns_combined_select[['username', 'campaign', 'source']]"
   ]
  },
  {
   "cell_type": "code",
   "execution_count": null,
   "id": "b3d68614",
   "metadata": {},
   "outputs": [],
   "source": [
    "table_data.to_csv(\"raw_data/campaign_participants_20192020.csv\", sep=',', encoding = 'utf-8', index=False)"
   ]
  },
  {
   "cell_type": "raw",
   "id": "87cb4de3",
   "metadata": {},
   "source": [
    "!hive -e \"Drop TABLE IF EXISTS florez.campaign_participants_20192020\""
   ]
  },
  {
   "cell_type": "raw",
   "id": "80d965d5",
   "metadata": {},
   "source": [
    "c_p_table_data = \"raw_data/campaign_participants_20192020.csv\"\n",
    "\n",
    "hive.load_csv(\n",
    "    c_p_table_data,\n",
    "    field_spec=\"username string, campaign string, source string\",\n",
    "    db_name=\"florez\",\n",
    "    table_name=\"campaign_participants_20192020\",\n",
    "    sep=','\n",
    ")"
   ]
  },
  {
   "cell_type": "markdown",
   "id": "f9338ee4",
   "metadata": {},
   "source": [
    "## Geoeditors"
   ]
  },
  {
   "cell_type": "code",
   "execution_count": null,
   "id": "81ac6dc8",
   "metadata": {},
   "outputs": [],
   "source": [
    "#First\n",
    "#wmf_raw.mediawiki_user\n",
    "#map your user_name data to wiki_db and user_id \n",
    "\n",
    "#Second\n",
    "#join that with wiki_db and user_fingerprint_or_id to wmf.editors_daily to identify locations.\n"
   ]
  },
  {
   "cell_type": "code",
   "execution_count": null,
   "id": "8f86f548",
   "metadata": {
    "tags": []
   },
   "outputs": [],
   "source": [
    "#https://www.mediawiki.org/wiki/Manual:CategoryMembershipChanges\n",
    "\n",
    "editors_slow = hive.run(\"\"\"\n",
    "WITH user_names AS (\n",
    "    SELECT DISTINCT username\n",
    "    FROM florez.campaign_participants_20192020\n",
    "),\n",
    "\n",
    "geo_users AS (\n",
    "    SELECT wiki_db, user_fingerprint_or_id, country_code\n",
    "    FROM wmf.editors_daily\n",
    "    WHERE editors_daily.month = '2021-09'\n",
    "        AND user_is_anonymous = false\n",
    "        AND action_type IN (0, 1, 6) \n",
    ")\n",
    "\n",
    "SELECT userw.user_name, \n",
    "        userw.wiki_db, \n",
    "        userw.user_registration, \n",
    "        userw.user_editcount, \n",
    "        ed.user_fingerprint_or_id,\n",
    "        ed.country_code\n",
    "FROM user_names\n",
    "JOIN wmf_raw.mediawiki_user userw\n",
    "  ON user_names.username = userw.user_name\n",
    "JOIN geo_users ed\n",
    "  ON ed.user_fingerprint_or_id = userw.user_id\n",
    "  AND ed.wiki_db = userw.wiki_db\n",
    "WHERE userw.snapshot = '2021-09'\n",
    "\"\"\")"
   ]
  },
  {
   "cell_type": "code",
   "execution_count": null,
   "id": "f808aec2",
   "metadata": {},
   "outputs": [],
   "source": [
    "editors_slow.drop_duplicates().info()"
   ]
  },
  {
   "cell_type": "code",
   "execution_count": null,
   "id": "054b24b6",
   "metadata": {},
   "outputs": [],
   "source": [
    "editors_slow.to_csv(\"output_data/output.csv\", sep=',', encoding = 'utf-8', index=False)"
   ]
  },
  {
   "cell_type": "markdown",
   "id": "1fd72135",
   "metadata": {},
   "source": [
    "## Geoeditors"
   ]
  },
  {
   "cell_type": "code",
   "execution_count": null,
   "id": "e3b3bdef",
   "metadata": {},
   "outputs": [],
   "source": [
    "#import findspark\n",
    "from pyspark.sql.types import ArrayType, StringType\n",
    "\n",
    "from pyspark.context import SparkContext\n",
    "from pyspark.sql.session import SparkSession"
   ]
  },
  {
   "cell_type": "code",
   "execution_count": null,
   "id": "32fd1096",
   "metadata": {},
   "outputs": [],
   "source": [
    "sc = SparkContext.getOrCreate()\n",
    "spark = SparkSession(sc)"
   ]
  },
  {
   "cell_type": "code",
   "execution_count": null,
   "id": "16350b54",
   "metadata": {},
   "outputs": [],
   "source": [
    "#--AND userw.user_editcount > 0\n",
    "\n",
    "# Gather \n",
    "e_locations_r =  '''\n",
    "WITH user_names AS (\n",
    "    SELECT DISTINCT username\n",
    "    FROM florez.campaign_participants_20192020\n",
    "),\n",
    "\n",
    "geo_users AS (\n",
    "    SELECT wiki_db, user_fingerprint_or_id, country_code\n",
    "    FROM wmf.editors_daily\n",
    "    WHERE editors_daily.month = '2021-09'\n",
    "        AND user_is_anonymous = false\n",
    "        AND action_type IN (0, 1, 6)\n",
    ")\n",
    "\n",
    "SELECT userw.user_name, \n",
    "        userw.wiki_db, \n",
    "        userw.user_registration, \n",
    "        userw.user_editcount, \n",
    "        ed.user_fingerprint_or_id,\n",
    "        ed.country_code\n",
    "FROM user_names\n",
    "JOIN wmf_raw.mediawiki_user userw\n",
    "  ON user_names.username = userw.user_name\n",
    "JOIN geo_users ed\n",
    "  ON ed.user_fingerprint_or_id = userw.user_id\n",
    "  AND ed.wiki_db = userw.wiki_db\n",
    "WHERE userw.snapshot = '2021-09'\n",
    "LIMIT 5\n",
    "'''"
   ]
  },
  {
   "cell_type": "code",
   "execution_count": null,
   "id": "6a36755a",
   "metadata": {},
   "outputs": [],
   "source": [
    "data = spark.sql(e_locations_r = spark.sql(e_locations_r).toPandas()s_r).toPandas()"
   ]
  },
  {
   "cell_type": "code",
   "execution_count": null,
   "id": "d7b55bca",
   "metadata": {},
   "outputs": [],
   "source": [
    "african_countries = hive.run(\"\"\"\n",
    "SELECT name AS country_name, iso_code AS country_code\n",
    "FROM canonical_data.countries \n",
    "WHERE maxmind_continent = 'Africa'\n",
    "\"\"\")"
   ]
  },
  {
   "cell_type": "raw",
   "id": "52ec77cc",
   "metadata": {},
   "source": [
    "african_countries = pd.read_csv(\"output_data/african_countries.csv\", sep=',', encoding = 'utf-8') "
   ]
  },
  {
   "cell_type": "code",
   "execution_count": null,
   "id": "6671b2d2",
   "metadata": {},
   "outputs": [],
   "source": [
    "#regions\n",
    "regions = pd.read_csv('raw_data/cr_regions_list.csv')\n",
    "regions.Region.fillna(value=np.nan, inplace=True)\n",
    "\n",
    "regions = regions.rename(columns={'Country':'country_name'})\n",
    "\n",
    "african_countries_w_ssa = african_countries.merge(regions, how='left', on='country_name')\n",
    "african_countries_w_ssa = african_countries_w_ssa[['country_name', 'country_code', 'Region']]"
   ]
  },
  {
   "cell_type": "code",
   "execution_count": null,
   "id": "0145898a",
   "metadata": {},
   "outputs": [],
   "source": [
    "african_countries_w_ssa.to_csv(\"output_data/african_countries_w_ssa.csv\", sep=',', encoding = 'utf-8', index=False)"
   ]
  },
  {
   "cell_type": "code",
   "execution_count": null,
   "id": "64c1cd7f",
   "metadata": {},
   "outputs": [],
   "source": [
    "### Current Africa GeoEditors"
   ]
  },
  {
   "cell_type": "code",
   "execution_count": null,
   "id": "414aae4e",
   "metadata": {},
   "outputs": [],
   "source": [
    "#https://www.mediawiki.org/wiki/Manual:CategoryMembershipChanges\n",
    "\n",
    "editors_ssa = hive.run(\"\"\"\n",
    "SELECT SUM(distinct_editors), c.name\n",
    "FROM wmf.geoeditors_monthly AS g\n",
    "JOIN canonical_data.countries AS c\n",
    "ON c.iso_code  = g.country_code \n",
    "WHERE c.maxmind_continent ='Africa'\n",
    "AND c.name IN (SSA_countries) \n",
    "GROUP BY c.name\n",
    "\"\"\")"
   ]
  },
  {
   "cell_type": "code",
   "execution_count": null,
   "id": "7c514271",
   "metadata": {},
   "outputs": [],
   "source": [
    "editors_ssa.to_csv(\"output_data/editors_ssa.csv\", sep=',', encoding = 'utf-8', index=False)"
   ]
  }
 ],
 "metadata": {
  "kernelspec": {
   "display_name": "Python 3",
   "language": "python",
   "name": "python3"
  },
  "language_info": {
   "codemirror_mode": {
    "name": "ipython",
    "version": 3
   },
   "file_extension": ".py",
   "mimetype": "text/x-python",
   "name": "python",
   "nbconvert_exporter": "python",
   "pygments_lexer": "ipython3",
   "version": "3.7.10"
  }
 },
 "nbformat": 4,
 "nbformat_minor": 5
}
